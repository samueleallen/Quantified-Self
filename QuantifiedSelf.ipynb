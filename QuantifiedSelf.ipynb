{
 "cells": [
  {
   "cell_type": "markdown",
   "id": "72f50b77",
   "metadata": {},
   "source": [
    "# Quantified Self\n",
    "By: Gavin McClure-Coleman & Sam Allen"
   ]
  },
  {
   "cell_type": "markdown",
   "id": "d9ee47d5",
   "metadata": {},
   "source": [
    "## Introduction"
   ]
  }
 ],
 "metadata": {
  "language_info": {
   "name": "python"
  }
 },
 "nbformat": 4,
 "nbformat_minor": 5
}
